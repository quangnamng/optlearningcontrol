{
 "cells": [
  {
   "cell_type": "markdown",
   "id": "62f89123-3395-466c-a04b-082ddf9332ca",
   "metadata": {},
   "source": [
    "# Exercise 2\n",
    "\n",
    "The goal of the exercise is to implement the MPPI algorithm discussed in class to control a (simplified) 3 degrees of freedom manipulator.\n",
    "\n",
    "You do not have access to the dynamics of the manipulator but only to a simulator (the ``simulate`` function) which you can use to test how the manipulator would behave for a given control sequence.\n",
    "* The states $x$ of the manipulator are the angles (in radians) of the 3 joints.\n",
    "* The controls $u$ set the velocity of the joints (3 controls).\n",
    "* The tip of the manipulator is $p(x)$ and depends on the current states $x$ (this is computed using a ``forward_kinematics`` function).\n",
    "* We assume a single shooting problem where we only optimize the control sequence $\\bar{u} = u_0,u_1,\\cdots$ and compute the resulting states using the simulator\n",
    "\n",
    "The goal is to get the manipulator's tip $p(x)$ to reach a desired goal position by minimizing (with respect to $\\bar{u}$)\n",
    "$$l(\\bar{u}) = \\sum_{n=0}^{N_{horizon}} (p(x_n) - p_{desired})^2 + 0.01 u_n^2$$\n",
    "\n",
    "To do so, you will implement a model-predictive controller using the MPPI algorithm in its inner loop.\n",
    "\n",
    "## MPPI algorithm\n",
    "At each iteration, the MPPI algorithm computes an improved control through\n",
    "$$\\bar{u} \\leftarrow \\bar{u} - \\alpha \\frac{ - \\lambda \\mathbb E \\left[  \\exp\\left(- \\frac{1}{\\lambda} l(\\bar{u} + \\mu \\epsilon) \\right) \\Sigma^{-1}  \\epsilon \\right]}{ \\mu \\mathbb   E \\left[ \\exp\\left(- \\frac{1}{\\lambda} l(\\bar{u} + \\mu \\epsilon) \\right) \\right]  }$$\n",
    "\n",
    "which is approximated through Monte-Carlo sampling by\n",
    "$$\\bar{u} \\leftarrow \\bar{u} - \\alpha \\frac{ - \\lambda \\mathbb \\sum_{k=1}^K \\left(\\exp\\left(- \\frac{1}{\\lambda} l(\\bar{u} + \\mu \\epsilon_k) \\right) \\Sigma^{-1}  \\epsilon_k \\right)}{ \\mu \\mathbb   \\sum_{k=1}^K \\left( \\exp\\left(- \\frac{1}{\\lambda} l(\\bar{u} + \\mu \\epsilon_k) \\right) \\right)  }$$\n",
    "\n",
    "\n",
    "Tips to implement the algorithm:\n",
    "* The parameters $\\alpha = 1$, $\\Sigma = I$, $\\lambda=0.1$, $\\mu=2$ and $K=50$ work well for this problem (use the same samples to evaluate both sums)\n",
    "* Do only one update of $\\bar{u}$ per control cycle (i.e. one descent step) and reuse the previous trajectory as an initial guess shifted by one time-step (for the warm start)\n",
    "* Use $N_{horizon} = 10$ (optimize 10 time steps ahead)\n",
    "* Use the numpy function ``random.multivariate_normal`` to draw a random sample from a multi-dimensional Gaussian distribution (you will need to draw $3N_{horizon}$ samples for $\\epsilon$)\n",
    "\n",
    "## Questions\n",
    "1. Implement the MPPI algorithm and use it to reach the following positions $(2,1)$, $(2,2)$, $(1,-2)$ (one full run per position). Run the simulation for 500 time steps.\n",
    "2. How does the algorithm perform across different runs? Do you always get the same result? Why?\n",
    "3. Plot the average cost and its variance across 10 runs for each target position"
   ]
  },
  {
   "cell_type": "code",
   "execution_count": null,
   "id": "56db5338-617c-4cc8-b356-2d107917df7e",
   "metadata": {},
   "outputs": [],
   "source": [
    "import numpy as np\n",
    "import matplotlib.pyplot as plt\n",
    "import manipulator"
   ]
  },
  {
   "cell_type": "code",
   "execution_count": null,
   "id": "43f0ace5-09e5-4e5d-b4d3-1650ff727692",
   "metadata": {},
   "outputs": [],
   "source": [
    "## the manipulator package contains all the necessary functions to simulate the robot\n",
    "\n",
    "## the forward_kinematics function returns the position of the tip of the manipulator as a function of the joint positions\n",
    "joint_position = np.array([0.,0.,0.])\n",
    "tip_position = manipulator.forward_kinematics(joint_position)\n",
    "print(f'the tip of the manipulator is at x={tip_position[0]:0.1f}, y={tip_position[1]:0.1f} ' + \\\n",
    "      f'when the joints are at {joint_position[0]:0.1f}, {joint_position[2]:0.1f}, {joint_position[2]:0.1f}')\n",
    "\n",
    "joint_position = np.array([0.5,0.5,0.5])\n",
    "tip_position = manipulator.forward_kinematics(joint_position)\n",
    "print(f'the tip of the manipulator is at x={tip_position[0]:0.1f}, y={tip_position[1]:0.1f} ' + \\\n",
    "      f'when the joints are at {joint_position[0]:0.1f}, {joint_position[2]:0.1f}, {joint_position[2]:0.1f}')"
   ]
  },
  {
   "cell_type": "code",
   "execution_count": null,
   "id": "cbfb501f-b2e0-40fe-9331-e5c14e09b33d",
   "metadata": {},
   "outputs": [],
   "source": [
    "## the manipulator can be simulated with a control trajectory of length N\n",
    "\n",
    "## the simulate function returns the time, state trajectory [3,N] and control trajectory [3,N]\n",
    "\n",
    "N = 500 #number of timesteps\n",
    "initial_state = np.array([0.,0.,0.])\n",
    "\n",
    "## we compute a random control trajectory drawn from a multivariate normal distribution\n",
    "u = np.reshape(np.random.multivariate_normal(np.zeros(3*N), np.eye(3*N)),[3,N])\n",
    "t,x, u = manipulator.simulate(initial_state, u, N)\n",
    "\n",
    "## the states can be displayed using the animate_robot function as follows\n",
    "manipulator.animate_robot(x)"
   ]
  },
  {
   "cell_type": "code",
   "execution_count": null,
   "id": "d752b785-a46f-4cc4-a81f-fc69203f92f3",
   "metadata": {},
   "outputs": [],
   "source": [
    "## fill in the controller function\n",
    "def controller(states):\n",
    "    ''' simplistic MPC loop '''\n",
    "    Nhorizon = 10\n",
    "    u_guess = np.reshape(np.random.multivariate_normal(np.zeros(3*Nhorizon), np.eye(3*Nhorizon)),[3,Nhorizon])\n",
    "    \n",
    "    return u_guess[:,0]\n",
    "\n",
    "\n",
    "## run the MPC controller\n",
    "N_timesteps = 500\n",
    "t, states, control = manipulator.simulate(np.zeros([3,]), controller, N_timesteps)\n",
    "\n",
    "## display the results\n",
    "manipulator.animate_robot(states)\n",
    "\n",
    "## Note that the simulate function can take either a control trajectory of size [3,N] \n",
    "## or a function f(states) that will be called at each control cycle (cf. examples above)"
   ]
  }
 ],
 "metadata": {
  "kernelspec": {
   "display_name": "Python 3 (ipykernel)",
   "language": "python",
   "name": "python3"
  },
  "language_info": {
   "codemirror_mode": {
    "name": "ipython",
    "version": 3
   },
   "file_extension": ".py",
   "mimetype": "text/x-python",
   "name": "python",
   "nbconvert_exporter": "python",
   "pygments_lexer": "ipython3",
   "version": "3.13.7"
  }
 },
 "nbformat": 4,
 "nbformat_minor": 5
}
